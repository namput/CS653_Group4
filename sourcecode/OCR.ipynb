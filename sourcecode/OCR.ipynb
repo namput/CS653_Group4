{
 "cells": [
  {
   "cell_type": "code",
   "execution_count": 13,
   "id": "1e2407e3-b69c-4e6c-86a1-532ad6090545",
   "metadata": {
    "tags": []
   },
   "outputs": [
    {
     "name": "stdout",
     "output_type": "stream",
     "text": [
      "Looking in indexes: https://pypi.org/simple, https://pip.repos.neuron.amazonaws.com\n",
      "Requirement already satisfied: pythainlp in /home/ec2-user/anaconda3/envs/python3/lib/python3.10/site-packages (4.0.1)\n",
      "Requirement already satisfied: requests>=2.22.0 in /home/ec2-user/anaconda3/envs/python3/lib/python3.10/site-packages (from pythainlp) (2.28.1)\n",
      "Requirement already satisfied: certifi>=2017.4.17 in /home/ec2-user/anaconda3/envs/python3/lib/python3.10/site-packages (from requests>=2.22.0->pythainlp) (2022.12.7)\n",
      "Requirement already satisfied: charset-normalizer<3,>=2 in /home/ec2-user/anaconda3/envs/python3/lib/python3.10/site-packages (from requests>=2.22.0->pythainlp) (2.1.1)\n",
      "Requirement already satisfied: idna<4,>=2.5 in /home/ec2-user/anaconda3/envs/python3/lib/python3.10/site-packages (from requests>=2.22.0->pythainlp) (3.4)\n",
      "Requirement already satisfied: urllib3<1.27,>=1.21.1 in /home/ec2-user/anaconda3/envs/python3/lib/python3.10/site-packages (from requests>=2.22.0->pythainlp) (1.26.8)\n",
      "Looking in indexes: https://pypi.org/simple, https://pip.repos.neuron.amazonaws.com\n",
      "Requirement already satisfied: PyPDF2 in /home/ec2-user/anaconda3/envs/python3/lib/python3.10/site-packages (3.0.1)\n",
      "Looking in indexes: https://pypi.org/simple, https://pip.repos.neuron.amazonaws.com\n",
      "Requirement already satisfied: python-crfsuite in /home/ec2-user/anaconda3/envs/python3/lib/python3.10/site-packages (0.9.9)\n",
      "Looking in indexes: https://pypi.org/simple, https://pip.repos.neuron.amazonaws.com\n",
      "Requirement already satisfied: charset-normalizer in /home/ec2-user/anaconda3/envs/python3/lib/python3.10/site-packages (2.1.1)\n"
     ]
    }
   ],
   "source": [
    "!pip install pythainlp\n",
    "!pip install PyPDF2\n",
    "!pip install python-crfsuite\n",
    "!pip install charset-normalizer"
   ]
  },
  {
   "cell_type": "code",
   "execution_count": 14,
   "id": "c97e8b9d-9f54-4763-b977-c98bc6f0e9a3",
   "metadata": {},
   "outputs": [],
   "source": [
    "from pythainlp.util import normalize\n",
    "from pythainlp import sent_tokenize\n",
    "from PyPDF2 import PdfReader\n",
    "import re"
   ]
  },
  {
   "cell_type": "code",
   "execution_count": 15,
   "id": "d73ce1e0-08d4-4cbc-990b-4852f49d0096",
   "metadata": {
    "tags": []
   },
   "outputs": [
    {
     "name": "stdout",
     "output_type": "stream",
     "text": [
      "การผลิตเมล็ดพันธุ\n",
      "วิทยาการเมล็ดพันธุ 2552191\n",
      "(2) พันธุพืชพื้นเมืองทั่วไป หมายถึง พันธุพืชที่กำเนิดภายในประเทศไทยหรือมีอยูใน\n",
      "ประเทศ ซึ่งไดรับการใชอยางแพรหลาย\n",
      "3) สายตน หรือทอนพันธุ (clone หรือ vegetative propagation) หมายถึงกลุมของพืชที่\n",
      "ไดจากการขยายพันธุซึ่งนอกเหนือจากเมล็ดและไดจากสวนของตนพืชตนเดียวกัน\n",
      "4) สายพันธุ (lines หรือ strains) เปนรหัสเรียกกลุมพืชที่อยูในระหวางการปรับปรุงพันธุ\n",
      "กอนตั้งชื่อหรือเสนอรับรองพันธุ มีองคประกอบของพันธุกรรมเปนพันธุแท (homozygous) สวนใหญไดจาก\n",
      "การผสมขามพันธุ แลวคัดเลือกจนมีความสม่ำเสมอในสายพันธุ และลักษณะคลายกัน สวนใหญจะไดจาก\n",
      "พืชผสมตัวเอง (self-pollinated crop) สวนพืชผสมขาม (cross-pollinated crop) จะใชเมื่อตองการสรางสาย\n",
      "พันธุบริสุทธิ์ซึ่งเรียกวา inbred\n",
      "5) พันธุบริสุทธิ์ (pure lines) มีความหมายคลายกับสายพันธุ แตตองการเนนใหชัดเจนขึ้น\n",
      "วามีความบริสุทธิ์ (homozygous) อยูในระดับสูง จึงมีการกระจายตัว (segregation) และแตกตางภายในชั่ว\n",
      "อายุตอไปนอยมาก\n",
      "6) พันธุปลูก (cultivar) ใชเรียกพันธุพืชที่ไดรับการปรับปรุงพันธุในปจจุบัน โดยมีการนำ\n",
      "ลักษณะที่เปนองคประกอบของผลผลิตรวมกันไว พืชเหลานี้จะมีการตอบสนองตอปจจัยการผลิตและการ\n",
      "ปฏิบัติรักษาที่ดีจะใหผลผลิตสูง\n",
      "7) พันธุปน (mixed/blended varieties) เมื่อนำเอาเมล็ดพันธุพืชตั้งแต 2 สายพันธุขึ้นไปมา\n",
      "ปนกันในสัดสวนที่กำหนด เพื่อนำไปปลูกใหประโยชนเกื้อกูลกัน เมื่อเก็บเกี่ยวเมล็ดเพื่อปลูกในชั่วตอไป จะได\n",
      "ตนพืชที่มีลักษณะไมสม่ำเสมอ เนื่องจากสายพันธุปนกัน สวนใหญจะพบในการทำทุงหญาเลี้ยงสัตว\n",
      "8) พันธุลูกผสม (Hybrid) เปนกลุมหรือประชากรของพืชที่มีกรรมพันธุพันธุทาง\n",
      "(heterozygous) แตประชากรสวนใหญจะมีลักษณะคลายกัน (homogeneous) การสรางพันธุลูกผสมก็เพื่อ\n",
      "ใชประโยชนจากความแข็งแรงของลูกผสม (hybrid vigour) พันธุลูกผสมมีหลายชนิด ไดแก\n",
      "(1) พันธุผสมเปด (opened-pollinated variety)\n",
      "(2) ลูกผสมเดี่ยว (single cross)\n",
      "(3) ลูกผสมคู (double cross)\n",
      "(4) ลูกผสมสามสายพันธุ (three way cross)\n",
      "9) พันธุสังเคราะห (synthetic หรือ multiple cross varieties) เกิดจากการผสมพันธุที่มี\n",
      "ระบบ (systematic pollination) ของสายพันธุตั้งแต 5 สายพันธุขึ้นไป หรือลูกผสมคู 2 ชุด โดยมีการทดสอบ\n",
      "ความสามารถในการรวมตัว (Combining Ability) ของแตละระบบรวมไปดวย\n",
      "10) พันธุผสมรวม (composite varieties ) เกิดจากการนำสายพันธุหรือพันธุผสมเปด\n",
      "มารวมผสมกันภายใตการควบคุมและการทดสอบประสิทธิภาพในการรวมตัวกอน แลวจึงคัดเลือกพอแมที่ดี\n",
      "มารวมผสมใหม และทดสอบอีกในแตละชั่วอายุ ประมาณ 3-4 ชั่วอายุ (recurrent selection) จนไดผลที่\n",
      "พอใจจึงทำการผลิตเมล็ดพันธุออกจำหนาย\n"
     ]
    }
   ],
   "source": [
    "def read_pdf_file(pdf_file_path):\n",
    "    pdf_reader = PdfReader(pdf_file_path)\n",
    "    text = ''\n",
    "    for page in pdf_reader.pages:\n",
    "        page_text = page.extract_text()\n",
    "        normalized_text = normalize(page_text)  # normalize Thai text\n",
    "        text += normalized_text\n",
    "    return text\n",
    "\n",
    "def extract_sentences(text, keyword):\n",
    "    sentences = sent_tokenize(text)\n",
    "    return [sentence for sentence in sentences if keyword in sentence]\n",
    "\n",
    "text = read_pdf_file('testfile.pdf')\n",
    "print(text)\n"
   ]
  },
  {
   "cell_type": "code",
   "execution_count": 12,
   "id": "7068ee4e-9b3e-4d8d-bc95-38387a6e211a",
   "metadata": {
    "tags": []
   },
   "outputs": [
    {
     "name": "stdout",
     "output_type": "stream",
     "text": [
      "การผลิตเมล็ดพันธุ\n",
      "วิทยาการเมล็ดพันธุ 2552191\n",
      "(2) พันธุพืชพื้นเมืองทั่วไป หมายถึง พันธุพืชที่กำเนิดภายในประเทศไทยหรือมีอยูใน\n",
      "ประเทศ ซึ่งไดรับการใชอยางแพรหลาย\n",
      "3) สายตน หรือทอนพันธุ (clone หรือ vegetative propagation) หมายถึงกลุมของพืชที่\n",
      "ไดจากการขยายพันธุซึ่งนอกเหนือจากเมล็ดและไดจากสวนของตนพืชตนเดียวกัน\n",
      "4) สายพันธุ (lines หรือ strains) เปนรหัสเรียกกลุมพืชที่อยูในระหวางการปรับปรุงพันธุ\n",
      "กอนตั้งชื่อหรือเสนอรับรองพันธุ \n",
      "โดยมีการนำ\n",
      "ลักษณะที่เปนองคประกอบของผลผลิตรวมกันไว พืชเหลานี้จะมีการตอบสนองตอปจจัยการผลิตและการ\n",
      "ปฏิบัติรักษาที่ดีจะใหผลผลิตสูง\n",
      "7) พันธุปน (mixed/blended varieties) เมื่อนำเอาเมล็ดพันธุพืชตั้งแต 2 สายพันธุขึ้นไปมา\n",
      "ปนกันในสัดสวนที่กำหนด \n",
      "โดยมีการทดสอบ\n",
      "ความสามารถในการรวมตัว (Combining Ability) ของแตละระบบรวมไปดวย\n",
      "10) พันธุผสมรวม (composite varieties ) เกิดจากการนำสายพันธุหรือพันธุผสมเปด\n",
      "มารวมผสมกันภายใตการควบคุมและการทดสอบประสิทธิภาพในการรวมตัวกอน แลวจึงคัดเลือกพอแมที่ดี\n",
      "มารวมผสมใหม และทดสอบอีกในแตละชั่วอายุ ประมาณ 3-4 ชั่วอายุ (recurrent selection) จนไดผลที่\n",
      "พอใจจึงทำการผลิตเมล็ดพันธุออกจำหนาย\n"
     ]
    }
   ],
   "source": [
    "keyword = \"การผลิต\"\n",
    "sentences_with_keyword = extract_sentences(text, keyword)\n",
    "for sentence in sentences_with_keyword:\n",
    "    print(sentence)"
   ]
  },
  {
   "cell_type": "code",
   "execution_count": null,
   "id": "1cf0db37-a8ff-40c0-876f-9094775aff64",
   "metadata": {},
   "outputs": [],
   "source": []
  }
 ],
 "metadata": {
  "kernelspec": {
   "display_name": "conda_python3",
   "language": "python",
   "name": "conda_python3"
  },
  "language_info": {
   "codemirror_mode": {
    "name": "ipython",
    "version": 3
   },
   "file_extension": ".py",
   "mimetype": "text/x-python",
   "name": "python",
   "nbconvert_exporter": "python",
   "pygments_lexer": "ipython3",
   "version": "3.10.8"
  }
 },
 "nbformat": 4,
 "nbformat_minor": 5
}
